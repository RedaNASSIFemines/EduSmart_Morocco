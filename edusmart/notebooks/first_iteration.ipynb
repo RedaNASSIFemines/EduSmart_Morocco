{
 "cells": [
  {
   "cell_type": "markdown",
   "metadata": {},
   "source": [
    "This is the first iteration on the first step of the pipeline: \n",
    "> generating a general QCM about a specific course."
   ]
  },
  {
   "cell_type": "code",
   "execution_count": 1,
   "metadata": {
    "vscode": {
     "languageId": "plaintext"
    }
   },
   "outputs": [],
   "source": [
    "from openai import OpenAI\n",
    "from dotenv import load_dotenv"
   ]
  },
  {
   "cell_type": "code",
   "execution_count": 2,
   "metadata": {},
   "outputs": [
    {
     "data": {
      "text/plain": [
       "True"
      ]
     },
     "execution_count": 2,
     "metadata": {},
     "output_type": "execute_result"
    }
   ],
   "source": [
    "load_dotenv()"
   ]
  },
  {
   "cell_type": "code",
   "execution_count": 3,
   "metadata": {},
   "outputs": [],
   "source": [
    "client = OpenAI()"
   ]
  },
  {
   "cell_type": "code",
   "execution_count": 4,
   "metadata": {},
   "outputs": [],
   "source": [
    "completion = client.chat.completions.create(\n",
    "    model=\"gpt-4o-mini\",\n",
    "    messages=[\n",
    "        {\"role\": \"user\", \"content\": \"say 'what'\"}\n",
    "    ]\n",
    ")"
   ]
  },
  {
   "cell_type": "code",
   "execution_count": 10,
   "metadata": {},
   "outputs": [
    {
     "data": {
      "text/plain": [
       "'What?'"
      ]
     },
     "execution_count": 10,
     "metadata": {},
     "output_type": "execute_result"
    }
   ],
   "source": [
    "completion.choices[0].message.content"
   ]
  },
  {
   "cell_type": "markdown",
   "metadata": {},
   "source": [
    "# PDF as input"
   ]
  },
  {
   "cell_type": "code",
   "execution_count": null,
   "metadata": {},
   "outputs": [],
   "source": [
    "from pdf2image import convert_from_path\n",
    "import pytesseract\n",
    "\n",
    "# Path to the uploaded PDF file\n",
    "pdf_path = '/mnt/data/seance-1-1-1-notion-de-logique-partie-1-cours-3.pdf'\n",
    "\n",
    "# Convert PDF pages to images\n",
    "images = convert_from_path(pdf_path)\n",
    "\n",
    "# Perform OCR on each page and store text\n",
    "ocr_text = [pytesseract.image_to_string(image, lang='eng+fra') for image in images]\n",
    "\n",
    "# Combine all extracted text into one string\n",
    "full_text = \"\\n\\n\".join(ocr_text)\n",
    "\n",
    "# Save the extracted text for review\n",
    "text_file_path = \"/mnt/data/extracted_text.txt\"\n",
    "with open(text_file_path, \"w\") as text_file:\n",
    "    text_file.write(full_text)\n",
    "\n",
    "text_file_path"
   ]
  },
  {
   "cell_type": "code",
   "execution_count": 7,
   "metadata": {},
   "outputs": [],
   "source": [
    "extracted_text = []\n",
    "\n",
    "for i, image in enumerate(images):\n",
    "    try:\n",
    "        text = pytesseract.image_to_string(image, lang='eng+fra')\n",
    "        extracted_text.append(text)\n",
    "    except Exception as e:\n",
    "        extracted_text.append(f\"Error processing page {i+1}: {str(e)}\")\n",
    "\n",
    "# Combine all extracted text into one string\n",
    "full_text_incremental = \"\\n\\n\".join(extracted_text)\n",
    "\n",
    "# Save the extracted text for review\n",
    "text_file_path_incremental = \"/mnt/data/extracted_text_incremental.txt\"\n",
    "with open(text_file_path_incremental, \"w\") as text_file:\n",
    "    text_file.write(full_text_incremental)\n",
    "\n",
    "text_file_path_incremental"
   ]
  },
  {
   "cell_type": "code",
   "execution_count": null,
   "metadata": {},
   "outputs": [],
   "source": [
    "# Helper function to convert plain text to a LaTeX document structure\n",
    "def text_to_latex(text):\n",
    "    latex_document = r\"\"\"\n",
    "\\documentclass{article}\n",
    "\\usepackage[utf8]{inputenc}\n",
    "\\usepackage{amsmath, amssymb}\n",
    "\n",
    "\\begin{document}\n",
    "\n",
    "\"\"\" + text.replace(\"\\n\", \"\\n\\n\") + r\"\"\"\n",
    "\n",
    "\\end{document}\n",
    "\"\"\"\n",
    "    return latex_document\n",
    "\n",
    "# Convert extracted text to LaTeX\n",
    "latex_code = text_to_latex(full_text_incremental)\n",
    "\n",
    "# Save the LaTeX code to a file\n",
    "latex_file_path = \"/mnt/data/converted_to_latex.tex\"\n",
    "with open(latex_file_path, \"w\") as latex_file:\n",
    "    latex_file.write(latex_code)\n",
    "\n",
    "latex_file_path\n"
   ]
  },
  {
   "cell_type": "markdown",
   "metadata": {},
   "source": [
    "# Prompt as input"
   ]
  },
  {
   "cell_type": "markdown",
   "metadata": {},
   "source": [
    "## Without example"
   ]
  },
  {
   "cell_type": "code",
   "execution_count": null,
   "metadata": {},
   "outputs": [],
   "source": []
  },
  {
   "cell_type": "markdown",
   "metadata": {},
   "source": [
    "## With example"
   ]
  },
  {
   "cell_type": "code",
   "execution_count": null,
   "metadata": {},
   "outputs": [],
   "source": [
    "prompt = \"Don't follow exactly these example questions as they are not necessarly QCM questions\""
   ]
  }
 ],
 "metadata": {
  "kernelspec": {
   "display_name": "Python 3 (ipykernel)",
   "language": "python",
   "name": "python3"
  },
  "language_info": {
   "codemirror_mode": {
    "name": "ipython",
    "version": 3
   },
   "file_extension": ".py",
   "mimetype": "text/x-python",
   "name": "python",
   "nbconvert_exporter": "python",
   "pygments_lexer": "ipython3",
   "version": "3.12.3"
  }
 },
 "nbformat": 4,
 "nbformat_minor": 4
}
